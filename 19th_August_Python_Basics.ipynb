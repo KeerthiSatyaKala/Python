{
 "cells": [
  {
   "cell_type": "code",
   "execution_count": 1,
   "id": "961107f5-0bbf-4fe8-b858-616074d4d861",
   "metadata": {},
   "outputs": [
    {
     "name": "stdout",
     "output_type": "stream",
     "text": [
      "6\n",
      "2\n"
     ]
    }
   ],
   "source": [
    "\"\"\"Python basic questions\n",
    "1.swap x & y\"\"\"\n",
    "x=2\n",
    "y=6\n",
    "x=x+y \n",
    "y=x-y \n",
    "x=x-y\n",
    "print(x)\n",
    "print(y)"
   ]
  },
  {
   "cell_type": "code",
   "execution_count": 2,
   "id": "03368d8c-697e-4e79-a65e-38d56cae775f",
   "metadata": {},
   "outputs": [],
   "source": [
    "\"2. Input length and width,Output area of a rectangle\"\n",
    "def area_rect(a,b):\n",
    "    area = a*b\n",
    "    print(\"area of rectangle is\",area)"
   ]
  },
  {
   "cell_type": "code",
   "execution_count": 3,
   "id": "1bee5fdd-19a4-4b20-ba95-8b152a8ba57d",
   "metadata": {},
   "outputs": [
    {
     "name": "stdout",
     "output_type": "stream",
     "text": [
      "area of rectangle is 8\n"
     ]
    }
   ],
   "source": [
    "area_rect(2,4)"
   ]
  },
  {
   "cell_type": "code",
   "execution_count": 4,
   "id": "e3f60f11-ccee-43b8-b3f8-74fc09851097",
   "metadata": {},
   "outputs": [
    {
     "name": "stdin",
     "output_type": "stream",
     "text": [
      "Enter the Temp in Celsius : 37\n"
     ]
    },
    {
     "name": "stdout",
     "output_type": "stream",
     "text": [
      "Temp in Fahrenheit : 98.60000000000001\n"
     ]
    }
   ],
   "source": [
    "\"3. converts temperatures from Celsius to Fahrenheit\"\n",
    "c = int(input(\"Enter the Temp in Celsius :\"))\n",
    "f = (1.8 * c) + 32\n",
    "print(\"Temp in Fahrenheit :\", f)"
   ]
  },
  {
   "cell_type": "code",
   "execution_count": 5,
   "id": "ea15ac2f-d4fc-4d1b-8f07-c89aac5dc1d6",
   "metadata": {},
   "outputs": [
    {
     "name": "stdin",
     "output_type": "stream",
     "text": [
      "Enter the string : Keerthi\n"
     ]
    },
    {
     "name": "stdout",
     "output_type": "stream",
     "text": [
      "Length of the string : 7\n"
     ]
    }
   ],
   "source": [
    "\"\"\"String based questions\n",
    "1. Give input string & get length of string\"\"\"\n",
    "s = str(input(\"Enter the string :\"))\n",
    "lenstr=len(s)\n",
    "print(\"Length of the string :\", lenstr)"
   ]
  },
  {
   "cell_type": "code",
   "execution_count": 6,
   "id": "22a62c08-61a6-4478-9261-5fd9086746bc",
   "metadata": {},
   "outputs": [
    {
     "name": "stdin",
     "output_type": "stream",
     "text": [
      "Enter the string : Python is a programming language\n"
     ]
    },
    {
     "name": "stdout",
     "output_type": "stream",
     "text": [
      "\n",
      " Total vowels are\n",
      "10\n"
     ]
    }
   ],
   "source": [
    "\"2. take sentence from user and counts the number of vowels (a, e, i, o, u) in the string.\"\n",
    "s = str(input(\"Enter the string :\"))\n",
    "i=0\n",
    "vowels=['a','e','i','o','u','A','E','I','O','U']\n",
    "for char in s:\n",
    "    if char in vowels:\n",
    "        i=i+1       \n",
    "print(\"\\n Total vowels are\")\n",
    "print(i)"
   ]
  },
  {
   "cell_type": "code",
   "execution_count": 13,
   "id": "56541683-fa18-43cb-bbc9-2581a7567325",
   "metadata": {},
   "outputs": [],
   "source": [
    "\"3. reverse the string using string slicing and print the reversed string.\"\n",
    "def rev_string(s):\n",
    "    rs1=s[::-1]\n",
    "    print(rs1)"
   ]
  },
  {
   "cell_type": "code",
   "execution_count": 14,
   "id": "f9f647b4-e1e0-472b-b2ba-f6a7d6457102",
   "metadata": {},
   "outputs": [
    {
     "name": "stdout",
     "output_type": "stream",
     "text": [
      "ihtreeK ma I\n"
     ]
    }
   ],
   "source": [
    "rev_string('I am Keerthi')"
   ]
  },
  {
   "cell_type": "code",
   "execution_count": 15,
   "id": "09d696b3-c996-4f35-a344-78e627965716",
   "metadata": {},
   "outputs": [
    {
     "name": "stdin",
     "output_type": "stream",
     "text": [
      "Enter the string : MOM\n"
     ]
    },
    {
     "name": "stdout",
     "output_type": "stream",
     "text": [
      "string is palindrome\n"
     ]
    }
   ],
   "source": [
    "\"4. takes a string as input and checks if it is a palindrome\"\n",
    "s = str(input(\"Enter the string :\"))\n",
    "if(s== s[::-1]):\n",
    "    print(\"string is palindrome\")\n",
    "else:\n",
    "    print(\"string is not a palindrome\")"
   ]
  },
  {
   "cell_type": "code",
   "execution_count": 16,
   "id": "d175e620-28ae-4286-9644-451a3c5d1f3a",
   "metadata": {},
   "outputs": [
    {
     "name": "stdin",
     "output_type": "stream",
     "text": [
      "Enter the string : This is the first assignment\n"
     ]
    },
    {
     "name": "stdout",
     "output_type": "stream",
     "text": [
      "Thisisthefirstassignment\n"
     ]
    }
   ],
   "source": [
    "\"5. takes a string as input and removes all the spaces from it. Print the modified string without spaces.\"\n",
    "s = str(input(\"Enter the string :\"))\n",
    "sps_string=s.replace(\" \",\"\")\n",
    "print(sps_string)"
   ]
  },
  {
   "cell_type": "code",
   "execution_count": null,
   "id": "b2da6eb7-efc0-4093-b342-20353c3b43b5",
   "metadata": {},
   "outputs": [],
   "source": []
  },
  {
   "cell_type": "code",
   "execution_count": null,
   "id": "caba5c90-105b-4f90-bb1c-155c32286ad8",
   "metadata": {},
   "outputs": [],
   "source": []
  }
 ],
 "metadata": {
  "kernelspec": {
   "display_name": "Python 3 (ipykernel)",
   "language": "python",
   "name": "python3"
  },
  "language_info": {
   "codemirror_mode": {
    "name": "ipython",
    "version": 3
   },
   "file_extension": ".py",
   "mimetype": "text/x-python",
   "name": "python",
   "nbconvert_exporter": "python",
   "pygments_lexer": "ipython3",
   "version": "3.10.8"
  },
  "toc-autonumbering": true,
  "toc-showcode": false
 },
 "nbformat": 4,
 "nbformat_minor": 5
}
